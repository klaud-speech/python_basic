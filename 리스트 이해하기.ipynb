{
 "cells": [
  {
   "cell_type": "code",
   "execution_count": 1,
   "metadata": {
    "collapsed": true
   },
   "outputs": [],
   "source": [
    "biglist = [ str(i) for i in range(100)]"
   ]
  },
  {
   "cell_type": "code",
   "execution_count": 5,
   "metadata": {},
   "outputs": [
    {
     "name": "stdout",
     "output_type": "stream",
     "text": [
      "1000000 loops, best of 3: 975 ns per loop\n"
     ]
    }
   ],
   "source": [
    "%%timeit\n",
    "\n",
    "\"abc\" in biglist"
   ]
  },
  {
   "cell_type": "code",
   "execution_count": 6,
   "metadata": {},
   "outputs": [
    {
     "name": "stdout",
     "output_type": "stream",
     "text": [
      "The slowest run took 5.50 times longer than the fastest. This could mean that an intermediate result is being cached.\n",
      "100000 loops, best of 3: 2.2 µs per loop\n"
     ]
    }
   ],
   "source": [
    "%%timeit\n",
    "\n",
    "\"abc\" in set(biglist)"
   ]
  },
  {
   "cell_type": "markdown",
   "metadata": {},
   "source": [
    "## 실제 순환문을 표현식으로 처리하기 \n"
   ]
  },
  {
   "cell_type": "code",
   "execution_count": 7,
   "metadata": {},
   "outputs": [
    {
     "ename": "SyntaxError",
     "evalue": "invalid syntax (<ipython-input-7-ed6e0e79c4cf>, line 1)",
     "output_type": "error",
     "traceback": [
      "\u001b[0;36m  File \u001b[0;32m\"<ipython-input-7-ed6e0e79c4cf>\"\u001b[0;36m, line \u001b[0;32m1\u001b[0m\n\u001b[0;31m    x for i in range(10)\u001b[0m\n\u001b[0m        ^\u001b[0m\n\u001b[0;31mSyntaxError\u001b[0m\u001b[0;31m:\u001b[0m invalid syntax\n"
     ]
    }
   ],
   "source": [
    "x for i in range(10)"
   ]
  },
  {
   "cell_type": "code",
   "execution_count": 85,
   "metadata": {},
   "outputs": [
    {
     "name": "stdout",
     "output_type": "stream",
     "text": [
      "[0, 1, 2, 3, 4, 5, 6, 7, 8, 9]\n"
     ]
    }
   ],
   "source": [
    "l = [x for x in range(10)]\n",
    "\n",
    "print(l)"
   ]
  },
  {
   "cell_type": "code",
   "execution_count": 84,
   "metadata": {},
   "outputs": [
    {
     "name": "stdout",
     "output_type": "stream",
     "text": [
      "[0, 1, 2, 3, 4, 5, 6, 7, 8, 9]\n"
     ]
    }
   ],
   "source": [
    "ll = []\n",
    "for i in range(10) :\n",
    "    ll.__setitem__(slice(i,10),[i])\n",
    "print(ll)"
   ]
  },
  {
   "cell_type": "code",
   "execution_count": 86,
   "metadata": {},
   "outputs": [
    {
     "name": "stdout",
     "output_type": "stream",
     "text": [
      "[0, 1, 2, 3, 4, 5, 6, 7, 8, 9]\n"
     ]
    }
   ],
   "source": [
    "ll = []\n",
    "for i in range(10) :\n",
    "    ll.append(i)\n",
    "print(ll)"
   ]
  },
  {
   "cell_type": "markdown",
   "metadata": {},
   "source": [
    "## 리스트 내의 인덱스와 값을 분리해서 처리"
   ]
  },
  {
   "cell_type": "code",
   "execution_count": 43,
   "metadata": {},
   "outputs": [
    {
     "name": "stdout",
     "output_type": "stream",
     "text": [
      "<enumerate object at 0x10eab05e8>\n"
     ]
    },
    {
     "data": {
      "text/plain": [
       "False"
      ]
     },
     "execution_count": 43,
     "metadata": {},
     "output_type": "execute_result"
    }
   ],
   "source": [
    "a = enumerate([1,2,3])\n",
    "print(a)\n",
    "\n",
    "import collections.abc as cols\n",
    "\n",
    "isinstance(a,cols.Iterator)\n",
    "isinstance(a,cols.Generator)"
   ]
  },
  {
   "cell_type": "code",
   "execution_count": 44,
   "metadata": {},
   "outputs": [
    {
     "name": "stdout",
     "output_type": "stream",
     "text": [
      "0 1\n",
      "1 2\n",
      "2 3\n"
     ]
    }
   ],
   "source": [
    "for i,v in a :\n",
    "    print(i,v)"
   ]
  },
  {
   "cell_type": "markdown",
   "metadata": {},
   "source": [
    "## 리스트 내의 최대값과 최소값 구하기"
   ]
  },
  {
   "cell_type": "code",
   "execution_count": 14,
   "metadata": {},
   "outputs": [
    {
     "name": "stdout",
     "output_type": "stream",
     "text": [
      "11\n",
      "5\n"
     ]
    }
   ],
   "source": [
    "a = [5,7,8,11]\n",
    "\n",
    "print(max(a))\n",
    "print(min(a))"
   ]
  },
  {
   "cell_type": "markdown",
   "metadata": {},
   "source": [
    "## 리스트 인덱싱을 통한 할당과 검색 이해하기\n",
    "\n",
    "    리스트 할당과 검색을 사용할 경우는 실제 리스트가 만들어진 범위 내에서만 처리가 가능하다.\n",
    "    범위가 벗어날 경우에는 예외가 발생한다."
   ]
  },
  {
   "cell_type": "code",
   "execution_count": 48,
   "metadata": {},
   "outputs": [
    {
     "name": "stdout",
     "output_type": "stream",
     "text": [
      "1\n",
      "1\n"
     ]
    }
   ],
   "source": [
    "l = [1,2,3]\n",
    "\n",
    "print(l[0])\n",
    "\n",
    "print(l.__getitem__(0))"
   ]
  },
  {
   "cell_type": "code",
   "execution_count": 50,
   "metadata": {},
   "outputs": [
    {
     "name": "stdout",
     "output_type": "stream",
     "text": [
      "[100, 2, 3]\n",
      "[999, 2, 3]\n"
     ]
    }
   ],
   "source": [
    "l[0] = 100\n",
    "\n",
    "print(l)\n",
    "\n",
    "l.__setitem__(0,999)\n",
    "print(l)"
   ]
  },
  {
   "cell_type": "markdown",
   "metadata": {},
   "source": [
    "## 리스트 슬라이싱을 통한 할당과 검색 이해하기\n",
    "\n",
    "    리스트 슬라이싱으로 검색을 하면 새로운 리스트가 만들어지므로 할당하면 새로운 인스턴스를 만든다.\n",
    "    \n",
    "    리스트 슬라이싱을 했지만 이곳에 값을 할당하는 경우는 원본을 갱신한다.\n",
    "    "
   ]
  },
  {
   "cell_type": "code",
   "execution_count": 52,
   "metadata": {},
   "outputs": [
    {
     "name": "stdout",
     "output_type": "stream",
     "text": [
      "[1, 2]\n",
      "[1, 2]\n"
     ]
    }
   ],
   "source": [
    "l = [1,2,3]\n",
    "\n",
    "print(l[0:2])\n",
    "\n",
    "print(l.__getitem__(slice(0,2)))"
   ]
  },
  {
   "cell_type": "code",
   "execution_count": 65,
   "metadata": {},
   "outputs": [
    {
     "name": "stdout",
     "output_type": "stream",
     "text": [
      "4541025288\n",
      "4541163656\n",
      "[100, 3]\n",
      "[999]\n"
     ]
    }
   ],
   "source": [
    "l = [1,2,3]\n",
    "\n",
    "print(id(l))\n",
    "\n",
    "s = l[0:2]\n",
    "print(id(s))\n",
    "\n",
    "l[0:2] =  [100]\n",
    "\n",
    "print(l)\n",
    "\n",
    "l.__setitem__(slice(0,2),[999])\n",
    "print(l)"
   ]
  },
  {
   "cell_type": "markdown",
   "metadata": {},
   "source": [
    "### 기존 리스트 범위보다 더 큰 슬라이스를 처리할 경우 \n",
    "\n",
    "       슬라이싱으로 처리하면 실제 범위가 커지고 기존 것도 범위를 확대하는 효고가 있다.\n",
    "       "
   ]
  },
  {
   "cell_type": "code",
   "execution_count": 68,
   "metadata": {},
   "outputs": [
    {
     "name": "stdout",
     "output_type": "stream",
     "text": [
      "4541164296\n",
      "4541025736\n"
     ]
    }
   ],
   "source": [
    "l = [1,2,3]\n",
    "\n",
    "print(id(l))\n",
    "\n",
    "s = l[0:4]\n",
    "print(id(s))"
   ]
  },
  {
   "cell_type": "code",
   "execution_count": 74,
   "metadata": {},
   "outputs": [
    {
     "name": "stdout",
     "output_type": "stream",
     "text": [
      "[20, 21, 22, 23, 24, 25, 26, 27, 28, 29]\n",
      "4541164296\n"
     ]
    }
   ],
   "source": [
    "l[0:10] = [x for x in range(20,30)]\n",
    "print(l)\n",
    "print(id(l))"
   ]
  },
  {
   "cell_type": "code",
   "execution_count": 72,
   "metadata": {
    "scrolled": true
   },
   "outputs": [
    {
     "name": "stdout",
     "output_type": "stream",
     "text": [
      "4541025736\n",
      "[7, 8, 9, 10]\n",
      "[77, 77, 77, 77]\n"
     ]
    }
   ],
   "source": [
    "s[0:4] = [7,8,9,10]\n",
    "print(id(s))\n",
    "print(s)\n",
    "\n",
    "s.__setitem__(slice(0,4),[77,77,77,77])\n",
    "print(s)"
   ]
  },
  {
   "cell_type": "code",
   "execution_count": null,
   "metadata": {
    "collapsed": true
   },
   "outputs": [],
   "source": []
  }
 ],
 "metadata": {
  "kernelspec": {
   "display_name": "Python 3",
   "language": "python",
   "name": "python3"
  },
  "language_info": {
   "codemirror_mode": {
    "name": "ipython",
    "version": 3
   },
   "file_extension": ".py",
   "mimetype": "text/x-python",
   "name": "python",
   "nbconvert_exporter": "python",
   "pygments_lexer": "ipython3",
   "version": "3.6.1"
  }
 },
 "nbformat": 4,
 "nbformat_minor": 2
}
