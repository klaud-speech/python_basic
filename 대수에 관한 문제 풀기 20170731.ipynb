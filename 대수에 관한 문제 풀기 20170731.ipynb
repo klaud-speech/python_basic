{
 "cells": [
  {
   "cell_type": "markdown",
   "metadata": {},
   "source": [
    "## 약수 구하기"
   ]
  },
  {
   "cell_type": "code",
   "execution_count": 23,
   "metadata": {
    "collapsed": false
   },
   "outputs": [
    {
     "name": "stdout",
     "output_type": "stream",
     "text": [
      " 수를 입력하세요10\n",
      " 수를 입력하세요25\n",
      "{1, 2, 10, 5}\n",
      "{1, 5, 25}\n",
      "{1, 5}\n"
     ]
    }
   ],
   "source": [
    "def common_div(x) :\n",
    "    s = set()\n",
    "    for i in range(1,x+1) : \n",
    "        if x % i == 0 :\n",
    "            s.add(i)\n",
    "    return s\n",
    "            \n",
    "a = int(input(\" 수를 입력하세요\"))\n",
    "\n",
    "ass = common_div(a)\n",
    "b = int(input(\" 수를 입력하세요\"))\n",
    "bss = common_div(b)\n",
    "print(ass)\n",
    "print(bss)\n",
    "\n",
    "print((ass & bss))"
   ]
  },
  {
   "cell_type": "markdown",
   "metadata": {},
   "source": [
    "## 최대공약수(最大公約數,Greatest Common Divisor)란,\n",
    "\n",
    "    0이 아닌 두 정수나 다항식의 공통되는 약수 중에서 가장 큰 수를 말한다. \n",
    "    두 정수 a와 b의 최대공약수를 기호로 gcd(a,b)로 표기하거나, 더 간단히 (a,b)로도 표기한다\n",
    "    "
   ]
  },
  {
   "cell_type": "code",
   "execution_count": 19,
   "metadata": {
    "collapsed": false
   },
   "outputs": [
    {
     "name": "stdout",
     "output_type": "stream",
     "text": [
      "10 15\n",
      "15 10\n",
      "10 5\n",
      "5 0\n",
      "5\n"
     ]
    }
   ],
   "source": [
    "def gcd(p, q) :\n",
    "    print(p,q)\n",
    "    if (q == 0) :\n",
    "        return p;\n",
    "    return gcd(q, p%q)\n",
    "\n",
    "print(gcd(10,15))"
   ]
  },
  {
   "cell_type": "code",
   "execution_count": null,
   "metadata": {
    "collapsed": true
   },
   "outputs": [],
   "source": []
  },
  {
   "cell_type": "code",
   "execution_count": null,
   "metadata": {
    "collapsed": true
   },
   "outputs": [],
   "source": []
  }
 ],
 "metadata": {
  "anaconda-cloud": {},
  "kernelspec": {
   "display_name": "Python 3",
   "language": "python",
   "name": "python3"
  },
  "language_info": {
   "codemirror_mode": {
    "name": "ipython",
    "version": 3
   },
   "file_extension": ".py",
   "mimetype": "text/x-python",
   "name": "python",
   "nbconvert_exporter": "python",
   "pygments_lexer": "ipython3",
   "version": "3.6.0"
  }
 },
 "nbformat": 4,
 "nbformat_minor": 1
}
