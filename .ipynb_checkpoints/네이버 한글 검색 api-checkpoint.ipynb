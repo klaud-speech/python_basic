{
 "cells": [
  {
   "cell_type": "code",
   "execution_count": 1,
   "metadata": {
    "collapsed": true
   },
   "outputs": [],
   "source": [
    "biglist = [ str(i) for i in range(100)]"
   ]
  },
  {
   "cell_type": "code",
   "execution_count": 5,
   "metadata": {},
   "outputs": [
    {
     "name": "stdout",
     "output_type": "stream",
     "text": [
      "1000000 loops, best of 3: 975 ns per loop\n"
     ]
    }
   ],
   "source": [
    "%%timeit\n",
    "\n",
    "\"abc\" in biglist"
   ]
  },
  {
   "cell_type": "code",
   "execution_count": 6,
   "metadata": {},
   "outputs": [
    {
     "name": "stdout",
     "output_type": "stream",
     "text": [
      "The slowest run took 5.50 times longer than the fastest. This could mean that an intermediate result is being cached.\n",
      "100000 loops, best of 3: 2.2 µs per loop\n"
     ]
    }
   ],
   "source": [
    "%%timeit\n",
    "\n",
    "\"abc\" in set(biglist)"
   ]
  },
  {
   "cell_type": "code",
   "execution_count": 7,
   "metadata": {},
   "outputs": [
    {
     "ename": "SyntaxError",
     "evalue": "invalid syntax (<ipython-input-7-ed6e0e79c4cf>, line 1)",
     "output_type": "error",
     "traceback": [
      "\u001b[0;36m  File \u001b[0;32m\"<ipython-input-7-ed6e0e79c4cf>\"\u001b[0;36m, line \u001b[0;32m1\u001b[0m\n\u001b[0;31m    x for i in range(10)\u001b[0m\n\u001b[0m        ^\u001b[0m\n\u001b[0;31mSyntaxError\u001b[0m\u001b[0;31m:\u001b[0m invalid syntax\n"
     ]
    }
   ],
   "source": [
    "x for i in range(10)"
   ]
  },
  {
   "cell_type": "code",
   "execution_count": 12,
   "metadata": {},
   "outputs": [
    {
     "name": "stdout",
     "output_type": "stream",
     "text": [
      "<enumerate object at 0x10e7fb168>\n"
     ]
    },
    {
     "data": {
      "text/plain": [
       "False"
      ]
     },
     "execution_count": 12,
     "metadata": {},
     "output_type": "execute_result"
    }
   ],
   "source": [
    "a = enumerate([1,2,3])\n",
    "print(a)\n",
    "\n",
    "import collections.abc as cols\n",
    "\n",
    "isinstance(a,cols.Iterator)\n",
    "isinstance(a,cols.Generator)"
   ]
  },
  {
   "cell_type": "code",
   "execution_count": 14,
   "metadata": {},
   "outputs": [
    {
     "name": "stdout",
     "output_type": "stream",
     "text": [
      "11\n",
      "5\n"
     ]
    }
   ],
   "source": [
    "a = [5,7,8,11]\n",
    "\n",
    "print(max(a))\n",
    "print(min(a))"
   ]
  },
  {
   "cell_type": "code",
   "execution_count": 19,
   "metadata": {
    "collapsed": true
   },
   "outputs": [],
   "source": [
    "def fact(x) :\n",
    "    if x <= 1  :\n",
    "        return 1\n",
    "    return x * fact(x-1)"
   ]
  },
  {
   "cell_type": "code",
   "execution_count": 21,
   "metadata": {},
   "outputs": [
    {
     "data": {
      "text/plain": [
       "120"
      ]
     },
     "execution_count": 21,
     "metadata": {},
     "output_type": "execute_result"
    }
   ],
   "source": [
    "fact(5)"
   ]
  },
  {
   "cell_type": "code",
   "execution_count": 22,
   "metadata": {
    "collapsed": true
   },
   "outputs": [],
   "source": [
    "def fact(x) :\n",
    "    if x == 1  :\n",
    "        return 1\n",
    "    if x == 0 :\n",
    "        return 1\n",
    "    return x * fact(x-1)"
   ]
  },
  {
   "cell_type": "code",
   "execution_count": 23,
   "metadata": {},
   "outputs": [
    {
     "data": {
      "text/plain": [
       "1"
      ]
     },
     "execution_count": 23,
     "metadata": {},
     "output_type": "execute_result"
    }
   ],
   "source": [
    "fact(0)"
   ]
  },
  {
   "cell_type": "code",
   "execution_count": 24,
   "metadata": {},
   "outputs": [
    {
     "data": {
      "text/plain": [
       "120"
      ]
     },
     "execution_count": 24,
     "metadata": {},
     "output_type": "execute_result"
    }
   ],
   "source": [
    "fact(5)"
   ]
  },
  {
   "cell_type": "code",
   "execution_count": 25,
   "metadata": {
    "collapsed": true
   },
   "outputs": [],
   "source": [
    "def fact(x) :\n",
    "    if (x == 1 or  x == 0 ):\n",
    "        return 1\n",
    "    return x * fact(x-1)"
   ]
  },
  {
   "cell_type": "code",
   "execution_count": 26,
   "metadata": {},
   "outputs": [
    {
     "data": {
      "text/plain": [
       "1"
      ]
     },
     "execution_count": 26,
     "metadata": {},
     "output_type": "execute_result"
    }
   ],
   "source": [
    "fact(0)"
   ]
  },
  {
   "cell_type": "code",
   "execution_count": 27,
   "metadata": {},
   "outputs": [
    {
     "data": {
      "text/plain": [
       "120"
      ]
     },
     "execution_count": 27,
     "metadata": {},
     "output_type": "execute_result"
    }
   ],
   "source": [
    "fact(5)"
   ]
  },
  {
   "cell_type": "code",
   "execution_count": 28,
   "metadata": {
    "collapsed": true
   },
   "outputs": [],
   "source": [
    "a = [ x for x in range(5)]"
   ]
  },
  {
   "cell_type": "code",
   "execution_count": 29,
   "metadata": {},
   "outputs": [
    {
     "data": {
      "text/plain": [
       "[0, 1, 2, 3, 4]"
      ]
     },
     "execution_count": 29,
     "metadata": {},
     "output_type": "execute_result"
    }
   ],
   "source": [
    "a"
   ]
  },
  {
   "cell_type": "code",
   "execution_count": 30,
   "metadata": {
    "collapsed": true
   },
   "outputs": [],
   "source": [
    "def gcd(a,b) :\n",
    "    if b == 0 :\n",
    "        return a\n",
    "    return gcd(b, a%b)"
   ]
  },
  {
   "cell_type": "code",
   "execution_count": 31,
   "metadata": {},
   "outputs": [
    {
     "data": {
      "text/plain": [
       "5"
      ]
     },
     "execution_count": 31,
     "metadata": {},
     "output_type": "execute_result"
    }
   ],
   "source": [
    "gcd(5,10)"
   ]
  },
  {
   "cell_type": "code",
   "execution_count": 35,
   "metadata": {
    "collapsed": true
   },
   "outputs": [],
   "source": [
    "def gcd_(a,b) :\n",
    "    i = min(a,b)\n",
    "    if b == 0 :\n",
    "        return a\n",
    "    while True :\n",
    "        if a % i == 0 and b % i == 0 :\n",
    "            return i\n",
    "        i = i -1\n",
    "        \n",
    "        "
   ]
  },
  {
   "cell_type": "code",
   "execution_count": 36,
   "metadata": {},
   "outputs": [
    {
     "data": {
      "text/plain": [
       "5"
      ]
     },
     "execution_count": 36,
     "metadata": {},
     "output_type": "execute_result"
    }
   ],
   "source": [
    "gcd_(10,5)"
   ]
  },
  {
   "cell_type": "code",
   "execution_count": 37,
   "metadata": {},
   "outputs": [
    {
     "data": {
      "text/plain": [
       "10"
      ]
     },
     "execution_count": 37,
     "metadata": {},
     "output_type": "execute_result"
    }
   ],
   "source": [
    "gcd_(10,0)"
   ]
  },
  {
   "cell_type": "code",
   "execution_count": null,
   "metadata": {
    "collapsed": true
   },
   "outputs": [],
   "source": [
    "key = \"Tb8bzjtLVX7v5k_CPxOU\"\n",
    "password = \"xqR4Fv6UEy\""
   ]
  },
  {
   "cell_type": "code",
   "execution_count": 40,
   "metadata": {},
   "outputs": [
    {
     "name": "stdout",
     "output_type": "stream",
     "text": [
      "{\n",
      "\"lastBuildDate\": \"Fri, 08 Sep 2017 11:00:38 +0900\",\n",
      "\"total\": 8,\n",
      "\"start\": 1,\n",
      "\"display\": 8,\n",
      "\"items\": [\n",
      "{\n",
      "\"title\": \"[캐나다자영이민/퀘벡투자이민]eTA, 깜빡하셨습니까?\",\n",
      "\"link\": \"http://blog.naver.com/paulspring?Redirect=Log&amp;logNo=221009219019\",\n",
      "\"description\": \"eTA는 인터넷(http://www.cic.gc.ca/english/visit/eta-<b>start</b>-int.asp)을 통해 비교적 간단히 신청할 수 있다. 이를... <b>문용준</b> 기자 / 밴쿠버 조신일보 온누리 국제법인 캐나다자영이민 / 퀘벡투자이민에서 전하는 캐나다... \",\n",
      "\"bloggername\": \"[온누리국제법인 이민·비자 대행]\",\n",
      "\"bloggerlink\": \"http://blog.naver.com/paulspring\",\n",
      "\"postdate\": \"20170519\"\n",
      "\n",
      "},\n",
      "{\n",
      "\"title\": \"[캐나다 생활정보/밴쿠버 생활정보/신문 기사/한인 뉴스]... \",\n",
      "\"link\": \"http://blog.naver.com/chojs911?Redirect=Log&amp;logNo=220522079323\",\n",
      "\"description\": \"조선일보 <b>문용준</b> 기자 <b>문용준</b> 기자의 차 한잔 합시다.- 김홍찬 한인2세 사이에서 의사나 약사는 꽤... indexof=&amp;search_<b>start=</b>&amp;search_end=&amp;search_terms=&amp;search_sort= 아래 배너를 누르면 이데아 유학원 홈페이지로 이동합니다\",\n",
      "\"bloggername\": \"chojs911님의 블로그\",\n",
      "\"bloggerlink\": \"http://blog.naver.com/chojs911\",\n",
      "\"postdate\": \"20151028\"\n",
      "\n",
      "},\n",
      "{\n",
      "\"title\": \"불무도, Multinational Business Finance (13/E) 등등\",\n",
      "\"link\": \"http://blog.naver.com/singoro88?Redirect=Log&amp;logNo=220292143403\",\n",
      "\"description\": \"불무도: 신역 달마역근. 세수경 (활법 내공 외공) 일붕 서경보, 탄월 조자룡. 대건문화. 1980년. 고등학교 국사 국사편찬위원회 국정도서편찬위원회. 교육인적자원부. 2002년. Multinational Business Finance (13... \",\n",
      "\"bloggername\": \"신고서점의 자료실\",\n",
      "\"bloggerlink\": \"http://blog.naver.com/singoro88\",\n",
      "\"postdate\": \"20150306\"\n",
      "\n",
      "},\n",
      "{\n",
      "\"title\": \"모션그래픽의 정수, 별난 국민학교 등등\",\n",
      "\"link\": \"http://blog.naver.com/singoro88?Redirect=Log&amp;logNo=220589511157\",\n",
      "\"description\": \"The Status Seekers Vance Packard. Pocket Books. 1963년. 시간을 빼앗긴 사람들: 생체 리듬을 무시하고 사는 현대인에 대한 경고 틸 뢰네베르크. 추수밭. 2011년. 별난 국민학교 최영재. 지경사. 1988년. 중판. 모션그래픽의... \",\n",
      "\"bloggername\": \"신고서점의 자료실\",\n",
      "\"bloggerlink\": \"http://blog.naver.com/singoro88\",\n",
      "\"postdate\": \"20160106\"\n",
      "\n",
      "},\n",
      "{\n",
      "\"title\": \"허풍이 세계탐험, 언어영역 국어학습사전 등등\",\n",
      "\"link\": \"http://blog.naver.com/singoro88?Redirect=Log&amp;logNo=120201059705\",\n",
      "\"description\": \"영혼 <b>11</b>: 드래곤의 심판 10: 서펜트의 공포 리브라 SD건담 삼국전 오크 달려라 이다텐 MTB 라이더의... (전5권) <b>11</b> 키딕키딕 애니극장 파워디지몬 (현8권 1-8) Toei Animation 슬램덩크 내가 할게요!-왕비 에스더... \",\n",
      "\"bloggername\": \"신고서점의 자료실\",\n",
      "\"bloggerlink\": \"http://blog.naver.com/singoro88\",\n",
      "\"postdate\": \"20131102\"\n",
      "\n",
      "},\n",
      "{\n",
      "\"title\": \"히브리 민중사, 웅진 메르헨 월드 등등\",\n",
      "\"link\": \"http://blog.naver.com/singoro88?Redirect=Log&amp;logNo=120202469099\",\n",
      "\"description\": \"올브렉크 이영빈 김순환 선생 귀국추진위원회 고난함께 예배 김석한 양서원 세계 1985년 가을 제<b>11</b>호... 제<b>11</b>권 제<b>11</b>호) 개혁신학: 박사 60회 생신 기념 오광만 이성재 웨스트민스터신학원 사상과 (1) 정성구... \",\n",
      "\"bloggername\": \"신고서점의 자료실\",\n",
      "\"bloggerlink\": \"http://blog.naver.com/singoro88\",\n",
      "\"postdate\": \"20131125\"\n",
      "\n",
      "},\n",
      "{\n",
      "\"title\": \"Applied LEICA Technique, 충돌과 반동 등등\",\n",
      "\"link\": \"http://blog.naver.com/singoro88?Redirect=Log&amp;logNo=120202173890\",\n",
      "\"description\": \"제<b>11</b>회 부산전국사진공모전 1995 부산광역시지회 제12회 대한민국사진전람회도록 제15회... 김이출 <b>11</b>: 테크닉 (인물화편) 시각디자인연구소 디자인 전공자를 정밀묘사기법 최철형... \",\n",
      "\"bloggername\": \"신고서점의 자료실\",\n",
      "\"bloggerlink\": \"http://blog.naver.com/singoro88\",\n",
      "\"postdate\": \"20131120\"\n",
      "\n",
      "},\n",
      "{\n",
      "\"title\": \"나라사랑 제3집, 크리슈나의 노래 등등\",\n",
      "\"link\": \"http://blog.naver.com/singoro88?Redirect=Log&amp;logNo=120201814578\",\n",
      "\"description\": \"미술조사관 보고서 생활문물연구 제<b>11</b>호 (2003.12) 전라북도 제주도 전라남도 사진으로 북한의 동아일보사 Rome Editore 세계와 함께 나눈 한국문화 천진기 대표편저 유주이 Der Sommerpalast (The... \",\n",
      "\"bloggername\": \"신고서점의 자료실\",\n",
      "\"bloggerlink\": \"http://blog.naver.com/singoro88\",\n",
      "\"postdate\": \"20131114\"\n",
      "\n",
      "}\n",
      "]\n",
      "}\n",
      "\n"
     ]
    }
   ],
   "source": [
    "import os\n",
    "import sys\n",
    "import urllib.request\n",
    "client_id = \"Tb8bzjtLVX7v5k_CPxOU\"\n",
    "client_secret = \"xqR4Fv6UEy\"\n",
    "encText = urllib.parse.quote(\"문용준\")\n",
    "url = \"https://openapi.naver.com/v1/search/blog?query=\" + encText +\"start=11\"# json 결과\n",
    "# url = \"https://openapi.naver.com/v1/search/blog.xml?query=\" + encText # xml 결과\n",
    "request = urllib.request.Request(url)\n",
    "request.add_header(\"X-Naver-Client-Id\",client_id)\n",
    "request.add_header(\"X-Naver-Client-Secret\",client_secret)\n",
    "response = urllib.request.urlopen(request)\n",
    "rescode = response.getcode()\n",
    "if(rescode==200):\n",
    "    response_body = response.read()\n",
    "    print(response_body.decode('utf-8'))\n",
    "else:\n",
    "    print(\"Error Code:\" + rescode)"
   ]
  },
  {
   "cell_type": "code",
   "execution_count": 39,
   "metadata": {},
   "outputs": [
    {
     "name": "stdout",
     "output_type": "stream",
     "text": [
      "{\n",
      "\"lastBuildDate\": \"Fri, 08 Sep 2017 10:58:48 +0900\",\n",
      "\"total\": 518,\n",
      "\"start\": 1,\n",
      "\"display\": 10,\n",
      "\"items\": [\n",
      "{\n",
      "\"title\": \"문재인 아들 <b>문용준</b> 특혜 논란 증거는 국민의당 당원... \",\n",
      "\"link\": \"http://blog.naver.com/yang456?Redirect=Log&amp;logNo=221038405002\",\n",
      "\"description\": \"문재인 아들 <b>문용준</b> 특혜 논란… 정우택&quot;흙수저 대변한다더니 금수저 행세&quot; - 이뉴스투데이 [이뉴스투데이 정영미 기자] 문재인 전 후보의 아들 <b>문용준</b>씨의 특혜 논란과 관련해 정우택 자유한국당 원내대표가... \",\n",
      "\"bloggername\": \"소년의 마음을 가진 아저씨를 위한 장난감 나라\",\n",
      "\"bloggerlink\": \"http://blog.naver.com/yang456\",\n",
      "\"postdate\": \"20170627\"\n",
      "\n",
      "},\n",
      "{\n",
      "\"title\": \"소설가 반수연-<b>문용준</b> 기자의 차 한 잔 합시다 20\",\n",
      "\"link\": \"http://blog.daum.net/chkwon1004/18357731\",\n",
      "\"description\": \"“쓰리고 쓸쓸한 이민생활, 무엇이 그대의 위로였습니까?” <b>문용준</b> 기자 ***@*********.*** 기자의 다른 기사보기 최종수정 : 2015-08-28 11:54 <b>문용준</b> 기자의 차 한 잔 합시다 20, 소설가 반수연 그녀의 이민생활은 만만치... \",\n",
      "\"bloggername\": \"학 마 을\",\n",
      "\"bloggerlink\": \"http://blog.daum.net/chkwon1004\",\n",
      "\"postdate\": \"20150829\"\n",
      "\n",
      "},\n",
      "{\n",
      "\"title\": \"국민의당 이용주 단장은 <b>문용준</b> 특혜..\",\n",
      "\"link\": \"http://blog.naver.com/kuht119?Redirect=Log&amp;logNo=220992910709\",\n",
      "\"description\": \"국민의당 이용주 단장은 <b>문용준</b> 특혜채용을 위해 강씨를 비롯한 12명의 계약직 직원을 계약해지하고 이에 강씨등이 항의하여 <b>문용준</b> 특혜채용에 대해 비밀계약으로 재계약을 했다한다. 1. <b>문용준</b>은 일반직... \",\n",
      "\"bloggername\": \"kuht119님의 블로그\",\n",
      "\"bloggerlink\": \"http://blog.naver.com/kuht119\",\n",
      "\"postdate\": \"20170426\"\n",
      "\n",
      "},\n",
      "{\n",
      "\"title\": \"[빅데이터] 빅 데이터란 가치를 찾는 것이다 – <b>문용준</b>... \",\n",
      "\"link\": \"http://blog.naver.com/zerosum99?Redirect=Log&amp;logNo=220132132908\",\n",
      "\"description\": \"[빅데이터] 빅 데이터란 가치를 찾는 것이다 – <b>문용준</b> 빅데이터 아키텍처 2013년 12월 25일 | Filed under: 칼럼 | Posted by: IT News <b>문용준</b> 빅데이터 아키텍처 - SK C&amp;C 부장 - 금융 차세대 프로젝트 및 IFRS 프로젝트 수행... \",\n",
      "\"bloggername\": \"락(樂)을 즐겨라!\",\n",
      "\"bloggerlink\": \"http://blog.naver.com/zerosum99\",\n",
      "\"postdate\": \"20140925\"\n",
      "\n",
      "},\n",
      "{\n",
      "\"title\": \"[청첩-알림]완도 장좌리 <b>문용준</b>, 김희자 의 장남 문정상... \",\n",
      "\"link\": \"http://blog.daum.net/jcpost/11306057\",\n",
      "\"description\": \"[청첩-알림]완도 장좌리 <b>문용준</b>, 김희자 의 장남 문정상(청해초등학교 동문회) 결혼식 안내 완도 장좌리 <b>문용준</b>, 김희자 의 장남 문정상 군 황귀성, 박성자 의 장남 김헤숙 양 일시 : 2010년 3월 6일(음력 1월... \",\n",
      "\"bloggername\": \"jc1300 완도 진우상회\",\n",
      "\"bloggerlink\": \"http://blog.daum.net/jcpost\",\n",
      "\"postdate\": \"20100301\"\n",
      "\n",
      "},\n",
      "{\n",
      "\"title\": \"<b>문용준</b> 특혜사건  더있다\",\n",
      "\"link\": \"http://blog.naver.com/spacwolf?Redirect=Log&amp;logNo=220990925305\",\n",
      "\"description\": \"일하는 정당 - 국민의당 http://me2.do/FPIVlS1l 일하는 정당 - 국민의당 04/24 [기자회견문] 이용주 공명선거추진단장, 고용정보원 ‘문준용’식 특혜채용 10여건 발견 고용정보원 ‘문준용’식 특혜채용... \",\n",
      "\"bloggername\": \"풍류묵향\",\n",
      "\"bloggerlink\": \"http://blog.naver.com/spacwolf\",\n",
      "\"postdate\": \"20170424\"\n",
      "\n",
      "},\n",
      "{\n",
      "\"title\": \"부산출장돌상,-<b>문용준</b>의 돌잔치가 서면롯데호텔 라센느에서... \",\n",
      "\"link\": \"http://blog.daum.net/sodam2/6930888\",\n",
      "\"description\": \"2012.9.9 서면 롯데호텔 라센느에서 <b>문용준</b>이 돌잔치가 있었습니다. 파티해월,부산돌잔치업체,해운대돌잔치,부산전통돌잔치,부산전통돌상,부산돌산출장,부산돌상,부산출장돌상,전통돌상,부산돌잔치,부산돌정보... \",\n",
      "\"bloggername\": \"파티해월\",\n",
      "\"bloggerlink\": \"http://blog.daum.net/sodam2\",\n",
      "\"postdate\": \"20130118\"\n",
      "\n",
      "},\n",
      "{\n",
      "\"title\": \"[데일리메일] [데일리메일]<b>문용준</b> 의혹조작 이유미 구속... \",\n",
      "\"link\": \"http://blog.naver.com/mydailymail?Redirect=Log&amp;logNo=221040601586\",\n",
      "\"description\": \"\",\n",
      "\"bloggername\": \"mydailymail님의블로그\",\n",
      "\"bloggerlink\": \"http://blog.naver.com/mydailymail\",\n",
      "\"postdate\": \"20170629\"\n",
      "\n",
      "},\n",
      "{\n",
      "\"title\": \"&lt;티아라 바이 박은경&gt; <b>문용준</b> 신부님♥\",\n",
      "\"link\": \"http://blog.naver.com/tiara_park?Redirect=Log&amp;logNo=20116264410\",\n",
      "\"description\": \"[티아라 by 박은경] Hair. 윤상아 이사 M/Up. 강연진 부원장\",\n",
      "\"bloggername\": \"티아라 by 박은경\",\n",
      "\"bloggerlink\": \"http://blog.naver.com/tiara_park\",\n",
      "\"postdate\": \"20101102\"\n",
      "\n",
      "},\n",
      "{\n",
      "\"title\": \"인터넷 전문은행 사업 추진 방향성 6가지 - <b>문용준</b> SK C&amp;C 부장\",\n",
      "\"link\": \"http://blog.naver.com/nooyia?Redirect=Log&amp;logNo=220454073704\",\n",
      "\"description\": \"금융서비스의 진화에 따라 인터넷 은행(도입), 인터넷 전문은행(성장), 핀테크 은행(성숙)으로 단계별로 전환된다는 것. 특히 IT에서 DT(데이터 테크놀로지)로 기술의 변화가 이뤄지며 빅데이터와 핀테크... \",\n",
      "\"bloggername\": \"소리나무\",\n",
      "\"bloggerlink\": \"http://blog.naver.com/nooyia\",\n",
      "\"postdate\": \"20150818\"\n",
      "\n",
      "}\n",
      "]\n",
      "}\n",
      "\n"
     ]
    }
   ],
   "source": [
    "import os\n",
    "import sys\n",
    "import urllib.request\n",
    "client_id = \"Tb8bzjtLVX7v5k_CPxOU\"\n",
    "client_secret = \"xqR4Fv6UEy\"\n",
    "encText = urllib.parse.quote(\"문용준\")\n",
    "url = \"https://openapi.naver.com/v1/search/blog?query=\" + encText # json 결과\n",
    "# url = \"https://openapi.naver.com/v1/search/blog.xml?query=\" + encText # xml 결과\n",
    "request = urllib.request.Request(url)\n",
    "request.add_header(\"X-Naver-Client-Id\",client_id)\n",
    "request.add_header(\"X-Naver-Client-Secret\",client_secret)\n",
    "response = urllib.request.urlopen(request)\n",
    "rescode = response.getcode()\n",
    "if(rescode==200):\n",
    "    response_body = response.read()\n",
    "    print(response_body.decode('utf-8'))\n",
    "else:\n",
    "    print(\"Error Code:\" + rescode)"
   ]
  },
  {
   "cell_type": "code",
   "execution_count": null,
   "metadata": {
    "collapsed": true
   },
   "outputs": [],
   "source": []
  }
 ],
 "metadata": {
  "kernelspec": {
   "display_name": "Python 3",
   "language": "python",
   "name": "python3"
  },
  "language_info": {
   "codemirror_mode": {
    "name": "ipython",
    "version": 3
   },
   "file_extension": ".py",
   "mimetype": "text/x-python",
   "name": "python",
   "nbconvert_exporter": "python",
   "pygments_lexer": "ipython3",
   "version": "3.6.1"
  }
 },
 "nbformat": 4,
 "nbformat_minor": 2
}
