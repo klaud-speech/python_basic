{
 "cells": [
  {
   "cell_type": "code",
   "execution_count": 1,
   "metadata": {
    "collapsed": true
   },
   "outputs": [],
   "source": [
    "biglist = [ str(i) for i in range(100)]"
   ]
  },
  {
   "cell_type": "code",
   "execution_count": 5,
   "metadata": {},
   "outputs": [
    {
     "name": "stdout",
     "output_type": "stream",
     "text": [
      "1000000 loops, best of 3: 975 ns per loop\n"
     ]
    }
   ],
   "source": [
    "%%timeit\n",
    "\n",
    "\"abc\" in biglist"
   ]
  },
  {
   "cell_type": "code",
   "execution_count": 6,
   "metadata": {},
   "outputs": [
    {
     "name": "stdout",
     "output_type": "stream",
     "text": [
      "The slowest run took 5.50 times longer than the fastest. This could mean that an intermediate result is being cached.\n",
      "100000 loops, best of 3: 2.2 µs per loop\n"
     ]
    }
   ],
   "source": [
    "%%timeit\n",
    "\n",
    "\"abc\" in set(biglist)"
   ]
  },
  {
   "cell_type": "markdown",
   "metadata": {},
   "source": [
    "## 지능형 리스트에서 실제 순환문을 표현식으로 처리하기 \n",
    "\n",
    "     순환문은 표현식이 아니지만 실제 지능형 처리에서는 이를 표현식으로 사용이 가능하다.\n",
    "     지능형 내에서 순환을 정의할 때는 문장이 없으므로 블럭구문을 표시하는 콜론(:)이 없다.\n"
   ]
  },
  {
   "cell_type": "code",
   "execution_count": 7,
   "metadata": {},
   "outputs": [
    {
     "ename": "SyntaxError",
     "evalue": "invalid syntax (<ipython-input-7-ed6e0e79c4cf>, line 1)",
     "output_type": "error",
     "traceback": [
      "\u001b[0;36m  File \u001b[0;32m\"<ipython-input-7-ed6e0e79c4cf>\"\u001b[0;36m, line \u001b[0;32m1\u001b[0m\n\u001b[0;31m    x for i in range(10)\u001b[0m\n\u001b[0m        ^\u001b[0m\n\u001b[0;31mSyntaxError\u001b[0m\u001b[0;31m:\u001b[0m invalid syntax\n"
     ]
    }
   ],
   "source": [
    "x for i in range(10)"
   ]
  },
  {
   "cell_type": "code",
   "execution_count": 85,
   "metadata": {},
   "outputs": [
    {
     "name": "stdout",
     "output_type": "stream",
     "text": [
      "[0, 1, 2, 3, 4, 5, 6, 7, 8, 9]\n"
     ]
    }
   ],
   "source": [
    "l = [x for x in range(10)]\n",
    "\n",
    "print(l)"
   ]
  },
  {
   "cell_type": "code",
   "execution_count": 84,
   "metadata": {},
   "outputs": [
    {
     "name": "stdout",
     "output_type": "stream",
     "text": [
      "[0, 1, 2, 3, 4, 5, 6, 7, 8, 9]\n"
     ]
    }
   ],
   "source": [
    "ll = []\n",
    "for i in range(10) :\n",
    "    ll.__setitem__(slice(i,10),[i])\n",
    "print(ll)"
   ]
  },
  {
   "cell_type": "code",
   "execution_count": 86,
   "metadata": {},
   "outputs": [
    {
     "name": "stdout",
     "output_type": "stream",
     "text": [
      "[0, 1, 2, 3, 4, 5, 6, 7, 8, 9]\n"
     ]
    }
   ],
   "source": [
    "ll = []\n",
    "for i in range(10) :\n",
    "    ll.append(i)\n",
    "print(ll)"
   ]
  },
  {
   "cell_type": "markdown",
   "metadata": {},
   "source": [
    "## 리스트 내의 인덱스와 값을 분리해서 처리\n",
    "\n",
    "    인스턴스 관계를 확인하기 위해서는 isinstance  함수로 처리해야 한다.\n",
    "    일단 반복형은 정적으로 연속적인 자료형을 처리한다.\n",
    "    반복자와 제너레이터는 둘다 동적으로 처리되는 연속적인 자료형을 처리하는 객체이다.\n",
    "    반복자와 제너레이터는 한번 사용되면 사라진다. 다시 사용하려면 다시 인스턴스를 만들어서 사용해야 한다.\n",
    "    \n",
    "    "
   ]
  },
  {
   "cell_type": "code",
   "execution_count": 92,
   "metadata": {},
   "outputs": [
    {
     "name": "stdout",
     "output_type": "stream",
     "text": [
      "<enumerate object at 0x10eae0558>\n",
      "True\n",
      "True\n",
      "False\n"
     ]
    }
   ],
   "source": [
    "a = enumerate([1,2,3])\n",
    "print(a)\n",
    "\n",
    "import collections.abc as cols\n",
    "\n",
    "print(isinstance(a,cols.Iterable))\n",
    "print(isinstance(a,cols.Iterator))\n",
    "print(isinstance(a,cols.Generator))"
   ]
  },
  {
   "cell_type": "code",
   "execution_count": 44,
   "metadata": {},
   "outputs": [
    {
     "name": "stdout",
     "output_type": "stream",
     "text": [
      "0 1\n",
      "1 2\n",
      "2 3\n"
     ]
    }
   ],
   "source": [
    "for i,v in a :\n",
    "    print(i,v)"
   ]
  },
  {
   "cell_type": "markdown",
   "metadata": {},
   "source": [
    "## 리스트 내의 최대값과 최소값 구하기"
   ]
  },
  {
   "cell_type": "code",
   "execution_count": 14,
   "metadata": {},
   "outputs": [
    {
     "name": "stdout",
     "output_type": "stream",
     "text": [
      "11\n",
      "5\n"
     ]
    }
   ],
   "source": [
    "a = [5,7,8,11]\n",
    "\n",
    "print(max(a))\n",
    "print(min(a))"
   ]
  },
  {
   "cell_type": "markdown",
   "metadata": {},
   "source": [
    "## 리스트 인덱싱을 통한 할당과 검색 이해하기\n",
    "\n",
    "    리스트 할당과 검색을 사용할 경우는 실제 리스트가 만들어진 범위 내에서만 처리가 가능하다.\n",
    "    범위가 벗어날 경우에는 예외가 발생한다."
   ]
  },
  {
   "cell_type": "code",
   "execution_count": 48,
   "metadata": {},
   "outputs": [
    {
     "name": "stdout",
     "output_type": "stream",
     "text": [
      "1\n",
      "1\n"
     ]
    }
   ],
   "source": [
    "l = [1,2,3]\n",
    "\n",
    "print(l[0])\n",
    "\n",
    "print(l.__getitem__(0))"
   ]
  },
  {
   "cell_type": "code",
   "execution_count": 50,
   "metadata": {},
   "outputs": [
    {
     "name": "stdout",
     "output_type": "stream",
     "text": [
      "[100, 2, 3]\n",
      "[999, 2, 3]\n"
     ]
    }
   ],
   "source": [
    "l[0] = 100\n",
    "\n",
    "print(l)\n",
    "\n",
    "l.__setitem__(0,999)\n",
    "print(l)"
   ]
  },
  {
   "cell_type": "markdown",
   "metadata": {},
   "source": [
    "## 리스트 슬라이싱을 통한 할당과 검색 이해하기\n",
    "\n",
    "    리스트 슬라이싱으로 검색을 하면 새로운 리스트가 만들어지므로 할당하면 새로운 인스턴스를 만든다.\n",
    "    \n",
    "    리스트 슬라이싱을 했지만 이곳에 값을 할당하는 경우는 원본을 갱신한다.\n",
    "    "
   ]
  },
  {
   "cell_type": "code",
   "execution_count": 52,
   "metadata": {},
   "outputs": [
    {
     "name": "stdout",
     "output_type": "stream",
     "text": [
      "[1, 2]\n",
      "[1, 2]\n"
     ]
    }
   ],
   "source": [
    "l = [1,2,3]\n",
    "\n",
    "print(l[0:2])\n",
    "\n",
    "print(l.__getitem__(slice(0,2)))"
   ]
  },
  {
   "cell_type": "code",
   "execution_count": 65,
   "metadata": {},
   "outputs": [
    {
     "name": "stdout",
     "output_type": "stream",
     "text": [
      "4541025288\n",
      "4541163656\n",
      "[100, 3]\n",
      "[999]\n"
     ]
    }
   ],
   "source": [
    "l = [1,2,3]\n",
    "\n",
    "print(id(l))\n",
    "\n",
    "s = l[0:2]\n",
    "print(id(s))\n",
    "\n",
    "l[0:2] =  [100]\n",
    "\n",
    "print(l)\n",
    "\n",
    "l.__setitem__(slice(0,2),[999])\n",
    "print(l)"
   ]
  },
  {
   "cell_type": "markdown",
   "metadata": {},
   "source": [
    "### 기존 리스트 범위보다 더 큰 슬라이스를 처리할 경우 \n",
    "\n",
    "       슬라이싱으로 처리하면 실제 범위가 커지고 기존 것도 범위를 확대하는 효고가 있다.\n",
    "       "
   ]
  },
  {
   "cell_type": "code",
   "execution_count": 68,
   "metadata": {},
   "outputs": [
    {
     "name": "stdout",
     "output_type": "stream",
     "text": [
      "4541164296\n",
      "4541025736\n"
     ]
    }
   ],
   "source": [
    "l = [1,2,3]\n",
    "\n",
    "print(id(l))\n",
    "\n",
    "s = l[0:4]\n",
    "print(id(s))"
   ]
  },
  {
   "cell_type": "code",
   "execution_count": 74,
   "metadata": {},
   "outputs": [
    {
     "name": "stdout",
     "output_type": "stream",
     "text": [
      "[20, 21, 22, 23, 24, 25, 26, 27, 28, 29]\n",
      "4541164296\n"
     ]
    }
   ],
   "source": [
    "l[0:10] = [x for x in range(20,30)]\n",
    "print(l)\n",
    "print(id(l))"
   ]
  },
  {
   "cell_type": "code",
   "execution_count": 72,
   "metadata": {
    "scrolled": true
   },
   "outputs": [
    {
     "name": "stdout",
     "output_type": "stream",
     "text": [
      "4541025736\n",
      "[7, 8, 9, 10]\n",
      "[77, 77, 77, 77]\n"
     ]
    }
   ],
   "source": [
    "s[0:4] = [7,8,9,10]\n",
    "print(id(s))\n",
    "print(s)\n",
    "\n",
    "s.__setitem__(slice(0,4),[77,77,77,77])\n",
    "print(s)"
   ]
  },
  {
   "cell_type": "markdown",
   "metadata": {},
   "source": [
    "## 리스트 내의 정보 관리 \n",
    "\n",
    "    실제 모든 것은 인스턴스 객체이므로 실제 레퍼런스만 가지고 있다.\n",
    "    "
   ]
  },
  {
   "cell_type": "code",
   "execution_count": 88,
   "metadata": {},
   "outputs": [
    {
     "name": "stdout",
     "output_type": "stream",
     "text": [
      "4504553472\n",
      "4506109856\n",
      "4536160456\n",
      "4541076872\n",
      "4541156808\n"
     ]
    }
   ],
   "source": [
    "l= [1,\"str\",(1,2),[1,2,3],{'a':'b'}]\n",
    "\n",
    "for i in l :\n",
    "    print(id(i))"
   ]
  },
  {
   "cell_type": "markdown",
   "metadata": {},
   "source": [
    "### 일반적으로 변수에 저장된 것을 리스트에 넣으나 실제 리터럴로 넣으나 레퍼런스 관리기준으로 처리\n",
    "\n",
    "    특정 정수나 문자열은 위와 동일한 레퍼런스를 가질 수도 있다. 실제 정수나 문자열은 유일한 객체를 가지므로 같은 레퍼런스로 처리된다.\n",
    "    하지만 실제 숫자가 커지거나 문자열이 커지면 인스턴스를 여러 번 만들어서 처리한다.\n",
    "    "
   ]
  },
  {
   "cell_type": "code",
   "execution_count": 89,
   "metadata": {},
   "outputs": [
    {
     "name": "stdout",
     "output_type": "stream",
     "text": [
      "4504553472\n",
      "4506109856\n",
      "4538183944\n",
      "4541025736\n",
      "4540977016\n"
     ]
    }
   ],
   "source": [
    "i = 1\n",
    "s = \"str\"\n",
    "t = (1,2)\n",
    "l = [1,2,3]\n",
    "d = {'a':'b'}\n",
    "\n",
    "ll = [i,s,t,l,d]\n",
    "for i in ll :\n",
    "    print(id(i))"
   ]
  },
  {
   "cell_type": "code",
   "execution_count": null,
   "metadata": {
    "collapsed": true
   },
   "outputs": [],
   "source": []
  }
 ],
 "metadata": {
  "kernelspec": {
   "display_name": "Python 3",
   "language": "python",
   "name": "python3"
  },
  "language_info": {
   "codemirror_mode": {
    "name": "ipython",
    "version": 3
   },
   "file_extension": ".py",
   "mimetype": "text/x-python",
   "name": "python",
   "nbconvert_exporter": "python",
   "pygments_lexer": "ipython3",
   "version": "3.6.1"
  }
 },
 "nbformat": 4,
 "nbformat_minor": 2
}
